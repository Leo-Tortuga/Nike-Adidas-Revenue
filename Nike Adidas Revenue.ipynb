{
  "metadata": {
    "language_info": {
      "file_extension": ".sqlite3-console",
      "mimetype": "text/x-sqlite3-console",
      "name": "sqlite3",
      "version": "0.4.0"
    },
    "kernelspec": {
      "name": "SQLite",
      "display_name": "SQLite",
      "language": "sql"
    }
  },
  "nbformat_minor": 4,
  "nbformat": 4,
  "cells": [
    {
      "cell_type": "code",
      "source": "--Selected the count of records, count of description, count of listing price, and count of people last visited the site\n--Joined fiance and traffics sheet by the product id\n\nSelect     \n    count(*) as total_rows, \n    count(description) as count_description,\n    count(listing_price) as count_listing_price,\n    count(last_visited) as count_last_visited\nfrom\n    info\ninner join finance \n    using (product_id)\ninner join traffic \n    using (product_id);\n    \n",
      "metadata": {
        "dc": {
          "key": "8"
        },
        "tags": [
          "sample_code"
        ],
        "trusted": true
      },
      "execution_count": 33,
      "outputs": [
        {
          "output_type": "stream",
          "text": "1 rows affected.\n",
          "name": "stdout"
        },
        {
          "output_type": "execute_result",
          "execution_count": 33,
          "data": {
            "text/plain": "[(3179, 3117, 3120, 2928)]",
            "text/html": "<table>\n    <tr>\n        <th>total_rows</th>\n        <th>count_description</th>\n        <th>count_listing_price</th>\n        <th>count_last_visited</th>\n    </tr>\n    <tr>\n        <td>3179</td>\n        <td>3117</td>\n        <td>3120</td>\n        <td>2928</td>\n    </tr>\n</table>"
          },
          "metadata": {}
        }
      ]
    },
    {
      "cell_type": "code",
      "source": "--Selected the brad, listing price(converted from float to integer, and number of records\n--Joined brands and fiance by product id\n--Where the listing is higher than 0\n\nSelect \n    brands.brand, finance.listing_price::integer, count(*)\nfrom\n    brands \ninner join \n      finance\n    using(product_id)\nwhere \n    listing_price > 0\ngroup by\n    brand, listing_price  \norder by \n    listing_price desc;\n    \n",
      "metadata": {
        "dc": {
          "key": "18"
        },
        "tags": [
          "sample_code"
        ],
        "trusted": true
      },
      "execution_count": 35,
      "outputs": [
        {
          "output_type": "stream",
          "text": " * postgresql:///sports\n77 rows affected.\n",
          "name": "stdout"
        },
        {
          "output_type": "execute_result",
          "execution_count": 35,
          "data": {
            "text/plain": "[('Adidas', 300, 2),\n ('Adidas', 280, 4),\n ('Adidas', 240, 5),\n ('Adidas', 230, 8),\n ('Adidas', 220, 11),\n ('Nike', 200, 1),\n ('Adidas', 200, 8),\n ('Nike', 190, 2),\n ('Adidas', 190, 7),\n ('Nike', 180, 4),\n ('Adidas', 180, 34),\n ('Nike', 170, 14),\n ('Adidas', 170, 27),\n ('Nike', 160, 31),\n ('Adidas', 160, 28),\n ('Adidas', 150, 41),\n ('Nike', 150, 6),\n ('Adidas', 140, 36),\n ('Nike', 140, 12),\n ('Adidas', 130, 96),\n ('Nike', 130, 12),\n ('Adidas', 120, 115),\n ('Nike', 120, 16),\n ('Nike', 110, 17),\n ('Adidas', 110, 91),\n ('Nike', 100, 14),\n ('Adidas', 100, 72),\n ('Adidas', 96, 2),\n ('Nike', 95, 1),\n ('Nike', 90, 13),\n ('Adidas', 90, 89),\n ('Adidas', 86, 7),\n ('Nike', 85, 5),\n ('Adidas', 85, 1),\n ('Adidas', 80, 322),\n ('Nike', 80, 16),\n ('Nike', 79, 1),\n ('Adidas', 76, 149),\n ('Adidas', 75, 1),\n ('Nike', 75, 7),\n ('Adidas', 70, 87),\n ('Nike', 70, 4),\n ('Adidas', 66, 102),\n ('Nike', 65, 1),\n ('Adidas', 63, 1),\n ('Nike', 60, 2),\n ('Adidas', 60, 211),\n ('Adidas', 56, 174),\n ('Adidas', 55, 2),\n ('Adidas', 53, 43),\n ('Nike', 50, 5),\n ('Adidas', 50, 183),\n ('Adidas', 48, 42),\n ('Nike', 48, 1),\n ('Adidas', 46, 163),\n ('Nike', 45, 3),\n ('Adidas', 45, 1),\n ('Adidas', 43, 51),\n ('Adidas', 40, 81),\n ('Nike', 40, 1),\n ('Adidas', 38, 24),\n ('Adidas', 36, 25),\n ('Adidas', 33, 24),\n ('Adidas', 30, 37),\n ('Nike', 30, 2),\n ('Adidas', 28, 38),\n ('Adidas', 27, 18),\n ('Adidas', 25, 28),\n ('Adidas', 23, 1),\n ('Adidas', 20, 8),\n ('Adidas', 18, 4),\n ('Adidas', 16, 4),\n ('Adidas', 15, 27),\n ('Adidas', 13, 27),\n ('Adidas', 12, 1),\n ('Adidas', 10, 11),\n ('Adidas', 9, 1)]",
            "text/html": "<table>\n    <tr>\n        <th>brand</th>\n        <th>listing_price</th>\n        <th>count</th>\n    </tr>\n    <tr>\n        <td>Adidas</td>\n        <td>300</td>\n        <td>2</td>\n    </tr>\n    <tr>\n        <td>Adidas</td>\n        <td>280</td>\n        <td>4</td>\n    </tr>\n    <tr>\n        <td>Adidas</td>\n        <td>240</td>\n        <td>5</td>\n    </tr>\n    <tr>\n        <td>Adidas</td>\n        <td>230</td>\n        <td>8</td>\n    </tr>\n    <tr>\n        <td>Adidas</td>\n        <td>220</td>\n        <td>11</td>\n    </tr>\n    <tr>\n        <td>Nike</td>\n        <td>200</td>\n        <td>1</td>\n    </tr>\n    <tr>\n        <td>Adidas</td>\n        <td>200</td>\n        <td>8</td>\n    </tr>\n    <tr>\n        <td>Nike</td>\n        <td>190</td>\n        <td>2</td>\n    </tr>\n    <tr>\n        <td>Adidas</td>\n        <td>190</td>\n        <td>7</td>\n    </tr>\n    <tr>\n        <td>Nike</td>\n        <td>180</td>\n        <td>4</td>\n    </tr>\n    <tr>\n        <td>Adidas</td>\n        <td>180</td>\n        <td>34</td>\n    </tr>\n    <tr>\n        <td>Nike</td>\n        <td>170</td>\n        <td>14</td>\n    </tr>\n    <tr>\n        <td>Adidas</td>\n        <td>170</td>\n        <td>27</td>\n    </tr>\n    <tr>\n        <td>Nike</td>\n        <td>160</td>\n        <td>31</td>\n    </tr>\n    <tr>\n        <td>Adidas</td>\n        <td>160</td>\n        <td>28</td>\n    </tr>\n    <tr>\n        <td>Adidas</td>\n        <td>150</td>\n        <td>41</td>\n    </tr>\n    <tr>\n        <td>Nike</td>\n        <td>150</td>\n        <td>6</td>\n    </tr>\n    <tr>\n        <td>Adidas</td>\n        <td>140</td>\n        <td>36</td>\n    </tr>\n    <tr>\n        <td>Nike</td>\n        <td>140</td>\n        <td>12</td>\n    </tr>\n    <tr>\n        <td>Adidas</td>\n        <td>130</td>\n        <td>96</td>\n    </tr>\n    <tr>\n        <td>Nike</td>\n        <td>130</td>\n        <td>12</td>\n    </tr>\n    <tr>\n        <td>Adidas</td>\n        <td>120</td>\n        <td>115</td>\n    </tr>\n    <tr>\n        <td>Nike</td>\n        <td>120</td>\n        <td>16</td>\n    </tr>\n    <tr>\n        <td>Nike</td>\n        <td>110</td>\n        <td>17</td>\n    </tr>\n    <tr>\n        <td>Adidas</td>\n        <td>110</td>\n        <td>91</td>\n    </tr>\n    <tr>\n        <td>Nike</td>\n        <td>100</td>\n        <td>14</td>\n    </tr>\n    <tr>\n        <td>Adidas</td>\n        <td>100</td>\n        <td>72</td>\n    </tr>\n    <tr>\n        <td>Adidas</td>\n        <td>96</td>\n        <td>2</td>\n    </tr>\n    <tr>\n        <td>Nike</td>\n        <td>95</td>\n        <td>1</td>\n    </tr>\n    <tr>\n        <td>Nike</td>\n        <td>90</td>\n        <td>13</td>\n    </tr>\n    <tr>\n        <td>Adidas</td>\n        <td>90</td>\n        <td>89</td>\n    </tr>\n    <tr>\n        <td>Adidas</td>\n        <td>86</td>\n        <td>7</td>\n    </tr>\n    <tr>\n        <td>Nike</td>\n        <td>85</td>\n        <td>5</td>\n    </tr>\n    <tr>\n        <td>Adidas</td>\n        <td>85</td>\n        <td>1</td>\n    </tr>\n    <tr>\n        <td>Adidas</td>\n        <td>80</td>\n        <td>322</td>\n    </tr>\n    <tr>\n        <td>Nike</td>\n        <td>80</td>\n        <td>16</td>\n    </tr>\n    <tr>\n        <td>Nike</td>\n        <td>79</td>\n        <td>1</td>\n    </tr>\n    <tr>\n        <td>Adidas</td>\n        <td>76</td>\n        <td>149</td>\n    </tr>\n    <tr>\n        <td>Adidas</td>\n        <td>75</td>\n        <td>1</td>\n    </tr>\n    <tr>\n        <td>Nike</td>\n        <td>75</td>\n        <td>7</td>\n    </tr>\n    <tr>\n        <td>Adidas</td>\n        <td>70</td>\n        <td>87</td>\n    </tr>\n    <tr>\n        <td>Nike</td>\n        <td>70</td>\n        <td>4</td>\n    </tr>\n    <tr>\n        <td>Adidas</td>\n        <td>66</td>\n        <td>102</td>\n    </tr>\n    <tr>\n        <td>Nike</td>\n        <td>65</td>\n        <td>1</td>\n    </tr>\n    <tr>\n        <td>Adidas</td>\n        <td>63</td>\n        <td>1</td>\n    </tr>\n    <tr>\n        <td>Nike</td>\n        <td>60</td>\n        <td>2</td>\n    </tr>\n    <tr>\n        <td>Adidas</td>\n        <td>60</td>\n        <td>211</td>\n    </tr>\n    <tr>\n        <td>Adidas</td>\n        <td>56</td>\n        <td>174</td>\n    </tr>\n    <tr>\n        <td>Adidas</td>\n        <td>55</td>\n        <td>2</td>\n    </tr>\n    <tr>\n        <td>Adidas</td>\n        <td>53</td>\n        <td>43</td>\n    </tr>\n    <tr>\n        <td>Nike</td>\n        <td>50</td>\n        <td>5</td>\n    </tr>\n    <tr>\n        <td>Adidas</td>\n        <td>50</td>\n        <td>183</td>\n    </tr>\n    <tr>\n        <td>Adidas</td>\n        <td>48</td>\n        <td>42</td>\n    </tr>\n    <tr>\n        <td>Nike</td>\n        <td>48</td>\n        <td>1</td>\n    </tr>\n    <tr>\n        <td>Adidas</td>\n        <td>46</td>\n        <td>163</td>\n    </tr>\n    <tr>\n        <td>Nike</td>\n        <td>45</td>\n        <td>3</td>\n    </tr>\n    <tr>\n        <td>Adidas</td>\n        <td>45</td>\n        <td>1</td>\n    </tr>\n    <tr>\n        <td>Adidas</td>\n        <td>43</td>\n        <td>51</td>\n    </tr>\n    <tr>\n        <td>Adidas</td>\n        <td>40</td>\n        <td>81</td>\n    </tr>\n    <tr>\n        <td>Nike</td>\n        <td>40</td>\n        <td>1</td>\n    </tr>\n    <tr>\n        <td>Adidas</td>\n        <td>38</td>\n        <td>24</td>\n    </tr>\n    <tr>\n        <td>Adidas</td>\n        <td>36</td>\n        <td>25</td>\n    </tr>\n    <tr>\n        <td>Adidas</td>\n        <td>33</td>\n        <td>24</td>\n    </tr>\n    <tr>\n        <td>Adidas</td>\n        <td>30</td>\n        <td>37</td>\n    </tr>\n    <tr>\n        <td>Nike</td>\n        <td>30</td>\n        <td>2</td>\n    </tr>\n    <tr>\n        <td>Adidas</td>\n        <td>28</td>\n        <td>38</td>\n    </tr>\n    <tr>\n        <td>Adidas</td>\n        <td>27</td>\n        <td>18</td>\n    </tr>\n    <tr>\n        <td>Adidas</td>\n        <td>25</td>\n        <td>28</td>\n    </tr>\n    <tr>\n        <td>Adidas</td>\n        <td>23</td>\n        <td>1</td>\n    </tr>\n    <tr>\n        <td>Adidas</td>\n        <td>20</td>\n        <td>8</td>\n    </tr>\n    <tr>\n        <td>Adidas</td>\n        <td>18</td>\n        <td>4</td>\n    </tr>\n    <tr>\n        <td>Adidas</td>\n        <td>16</td>\n        <td>4</td>\n    </tr>\n    <tr>\n        <td>Adidas</td>\n        <td>15</td>\n        <td>27</td>\n    </tr>\n    <tr>\n        <td>Adidas</td>\n        <td>13</td>\n        <td>27</td>\n    </tr>\n    <tr>\n        <td>Adidas</td>\n        <td>12</td>\n        <td>1</td>\n    </tr>\n    <tr>\n        <td>Adidas</td>\n        <td>10</td>\n        <td>11</td>\n    </tr>\n    <tr>\n        <td>Adidas</td>\n        <td>9</td>\n        <td>1</td>\n    </tr>\n</table>"
          },
          "metadata": {}
        }
      ]
    },
    {
      "cell_type": "code",
      "source": "-- Selected  brand,  count of all products from finance, and total revenue\n-- Created four fields based by price range as price_category\n-- Joined byproduct_id and filter out products missing a value for brand\n\nSelect \n    brands.brand, \n    count(finance.product_id), \n    sum(finance.revenue) as total_revenue,\n    Case \n        when listing_price < 42 then 'Budget'\n        when listing_price >= 42 and listing_price < 74 then 'Average'\n        when listing_price >= 74 and listing_price < 129 then 'Expensive'\n        else 'Elite' End as price_category    \nfrom\n    brands\ninner join finance\n    using (product_id)\nwhere \n    brands.brand is not null\ngroup by\n   brand, price_category\norder by\n    total_revenue desc;",
      "metadata": {
        "dc": {
          "key": "27"
        },
        "tags": [
          "sample_code"
        ],
        "trusted": true
      },
      "execution_count": 37,
      "outputs": [
        {
          "output_type": "stream",
          "text": " * postgresql:///sports\n8 rows affected.\n",
          "name": "stdout"
        },
        {
          "output_type": "execute_result",
          "execution_count": 37,
          "data": {
            "text/plain": "[('Adidas', 849, 4626980.069999999, 'Expensive'),\n ('Adidas', 1060, 3233661.060000001, 'Average'),\n ('Adidas', 307, 3014316.8299999987, 'Elite'),\n ('Adidas', 359, 651661.1200000002, 'Budget'),\n ('Nike', 357, 595341.0199999992, 'Budget'),\n ('Nike', 82, 128475.59000000003, 'Elite'),\n ('Nike', 90, 71843.15000000004, 'Expensive'),\n ('Nike', 16, 6623.5, 'Average')]",
            "text/html": "<table>\n    <tr>\n        <th>brand</th>\n        <th>count</th>\n        <th>total_revenue</th>\n        <th>price_category</th>\n    </tr>\n    <tr>\n        <td>Adidas</td>\n        <td>849</td>\n        <td>4626980.069999999</td>\n        <td>Expensive</td>\n    </tr>\n    <tr>\n        <td>Adidas</td>\n        <td>1060</td>\n        <td>3233661.060000001</td>\n        <td>Average</td>\n    </tr>\n    <tr>\n        <td>Adidas</td>\n        <td>307</td>\n        <td>3014316.8299999987</td>\n        <td>Elite</td>\n    </tr>\n    <tr>\n        <td>Adidas</td>\n        <td>359</td>\n        <td>651661.1200000002</td>\n        <td>Budget</td>\n    </tr>\n    <tr>\n        <td>Nike</td>\n        <td>357</td>\n        <td>595341.0199999992</td>\n        <td>Budget</td>\n    </tr>\n    <tr>\n        <td>Nike</td>\n        <td>82</td>\n        <td>128475.59000000003</td>\n        <td>Elite</td>\n    </tr>\n    <tr>\n        <td>Nike</td>\n        <td>90</td>\n        <td>71843.15000000004</td>\n        <td>Expensive</td>\n    </tr>\n    <tr>\n        <td>Nike</td>\n        <td>16</td>\n        <td>6623.5</td>\n        <td>Average</td>\n    </tr>\n</table>"
          },
          "metadata": {}
        }
      ]
    },
    {
      "cell_type": "code",
      "source": "-- Calculated description_length\n-- Convert rating to numeric and calculated average_rating\n-- Joined byproduct_id \n-- Filtered products without missing values for description\n\nselect \n    trunc(length(i.description), -2) as description_length,\n    round(avg(r.rating::numeric), 2) as average_rating\nfrom info as i\ninner join reviews as r \n    on i.product_id = r.product_id\nwhere\n    i.description is not null\ngroup by\n    description_length\norder by\n    description_length;",
      "metadata": {
        "dc": {
          "key": "58"
        },
        "tags": [
          "sample_code"
        ],
        "trusted": true
      },
      "execution_count": 43,
      "outputs": [
        {
          "output_type": "stream",
          "text": " * postgresql:///sports\n7 rows affected.\n",
          "name": "stdout"
        },
        {
          "output_type": "execute_result",
          "execution_count": 43,
          "data": {
            "text/plain": "[(Decimal('0'), Decimal('1.87')),\n (Decimal('100'), Decimal('3.21')),\n (Decimal('200'), Decimal('3.27')),\n (Decimal('300'), Decimal('3.29')),\n (Decimal('400'), Decimal('3.32')),\n (Decimal('500'), Decimal('3.12')),\n (Decimal('600'), Decimal('3.65'))]",
            "text/html": "<table>\n    <tr>\n        <th>description_length</th>\n        <th>average_rating</th>\n    </tr>\n    <tr>\n        <td>0</td>\n        <td>1.87</td>\n    </tr>\n    <tr>\n        <td>100</td>\n        <td>3.21</td>\n    </tr>\n    <tr>\n        <td>200</td>\n        <td>3.27</td>\n    </tr>\n    <tr>\n        <td>300</td>\n        <td>3.29</td>\n    </tr>\n    <tr>\n        <td>400</td>\n        <td>3.32</td>\n    </tr>\n    <tr>\n        <td>500</td>\n        <td>3.12</td>\n    </tr>\n    <tr>\n        <td>600</td>\n        <td>3.65</td>\n    </tr>\n</table>"
          },
          "metadata": {}
        }
      ]
    },
    {
      "cell_type": "code",
      "source": "-- Selected brand,last_visited by month, and a count of all products in reviews aliased as num_reviews\n-- Join traffic with reviews and brands on product_id\n-- Group by brand and month, filtering out missing values for brand and month\n-- Order the results by brand and month\nselect \n    b.brand, \n    date_part('month', t.last_visited) as month, \n    count(r.*) as num_reviews\nfrom brands as b\ninner join traffic as t \n    on b.product_id = t.product_id\ninner join reviews as r \n    on t.product_id = r.product_id\ngroup by\n    b.brand, month\nhaving\n    b.brand is not null and \n    date_part('month', t.last_visited) is not null\nordered by \n    b.brand, month;",
      "metadata": {
        "dc": {
          "key": "68"
        },
        "tags": [
          "sample_code"
        ],
        "trusted": true
      },
      "execution_count": 45,
      "outputs": [
        {
          "output_type": "stream",
          "text": " * postgresql:///sports\n24 rows affected.\n",
          "name": "stdout"
        },
        {
          "output_type": "execute_result",
          "execution_count": 45,
          "data": {
            "text/plain": "[('Adidas', 1.0, 253),\n ('Adidas', 2.0, 272),\n ('Adidas', 3.0, 269),\n ('Adidas', 4.0, 180),\n ('Adidas', 5.0, 172),\n ('Adidas', 6.0, 159),\n ('Adidas', 7.0, 170),\n ('Adidas', 8.0, 189),\n ('Adidas', 9.0, 181),\n ('Adidas', 10.0, 192),\n ('Adidas', 11.0, 150),\n ('Adidas', 12.0, 190),\n ('Nike', 1.0, 52),\n ('Nike', 2.0, 52),\n ('Nike', 3.0, 55),\n ('Nike', 4.0, 42),\n ('Nike', 5.0, 41),\n ('Nike', 6.0, 43),\n ('Nike', 7.0, 37),\n ('Nike', 8.0, 29),\n ('Nike', 9.0, 28),\n ('Nike', 10.0, 47),\n ('Nike', 11.0, 38),\n ('Nike', 12.0, 35)]",
            "text/html": "<table>\n    <tr>\n        <th>brand</th>\n        <th>month</th>\n        <th>num_reviews</th>\n    </tr>\n    <tr>\n        <td>Adidas</td>\n        <td>1.0</td>\n        <td>253</td>\n    </tr>\n    <tr>\n        <td>Adidas</td>\n        <td>2.0</td>\n        <td>272</td>\n    </tr>\n    <tr>\n        <td>Adidas</td>\n        <td>3.0</td>\n        <td>269</td>\n    </tr>\n    <tr>\n        <td>Adidas</td>\n        <td>4.0</td>\n        <td>180</td>\n    </tr>\n    <tr>\n        <td>Adidas</td>\n        <td>5.0</td>\n        <td>172</td>\n    </tr>\n    <tr>\n        <td>Adidas</td>\n        <td>6.0</td>\n        <td>159</td>\n    </tr>\n    <tr>\n        <td>Adidas</td>\n        <td>7.0</td>\n        <td>170</td>\n    </tr>\n    <tr>\n        <td>Adidas</td>\n        <td>8.0</td>\n        <td>189</td>\n    </tr>\n    <tr>\n        <td>Adidas</td>\n        <td>9.0</td>\n        <td>181</td>\n    </tr>\n    <tr>\n        <td>Adidas</td>\n        <td>10.0</td>\n        <td>192</td>\n    </tr>\n    <tr>\n        <td>Adidas</td>\n        <td>11.0</td>\n        <td>150</td>\n    </tr>\n    <tr>\n        <td>Adidas</td>\n        <td>12.0</td>\n        <td>190</td>\n    </tr>\n    <tr>\n        <td>Nike</td>\n        <td>1.0</td>\n        <td>52</td>\n    </tr>\n    <tr>\n        <td>Nike</td>\n        <td>2.0</td>\n        <td>52</td>\n    </tr>\n    <tr>\n        <td>Nike</td>\n        <td>3.0</td>\n        <td>55</td>\n    </tr>\n    <tr>\n        <td>Nike</td>\n        <td>4.0</td>\n        <td>42</td>\n    </tr>\n    <tr>\n        <td>Nike</td>\n        <td>5.0</td>\n        <td>41</td>\n    </tr>\n    <tr>\n        <td>Nike</td>\n        <td>6.0</td>\n        <td>43</td>\n    </tr>\n    <tr>\n        <td>Nike</td>\n        <td>7.0</td>\n        <td>37</td>\n    </tr>\n    <tr>\n        <td>Nike</td>\n        <td>8.0</td>\n        <td>29</td>\n    </tr>\n    <tr>\n        <td>Nike</td>\n        <td>9.0</td>\n        <td>28</td>\n    </tr>\n    <tr>\n        <td>Nike</td>\n        <td>10.0</td>\n        <td>47</td>\n    </tr>\n    <tr>\n        <td>Nike</td>\n        <td>11.0</td>\n        <td>38</td>\n    </tr>\n    <tr>\n        <td>Nike</td>\n        <td>12.0</td>\n        <td>35</td>\n    </tr>\n</table>"
          },
          "metadata": {}
        }
      ]
    }
  ]
}